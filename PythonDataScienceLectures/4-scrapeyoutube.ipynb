{
 "cells": [
  {
   "cell_type": "code",
   "execution_count": 9,
   "metadata": {},
   "outputs": [],
   "source": [
    "from bs4 import BeautifulSoup as bs\n",
    "import requests"
   ]
  },
  {
   "cell_type": "code",
   "execution_count": 10,
   "metadata": {},
   "outputs": [],
   "source": [
    "from pytube import YouTube"
   ]
  },
  {
   "cell_type": "code",
   "execution_count": 11,
   "metadata": {},
   "outputs": [],
   "source": [
    "base = \"https://www.youtube.com/results?search_query=\"\n",
    "qstring = \"cat+videos\""
   ]
  },
  {
   "cell_type": "code",
   "execution_count": 12,
   "metadata": {},
   "outputs": [],
   "source": [
    "r = requests.get(base+qstring)"
   ]
  },
  {
   "cell_type": "code",
   "execution_count": 13,
   "metadata": {},
   "outputs": [],
   "source": [
    "page = r.text\n",
    "soup=bs(page,'html.parser')"
   ]
  },
  {
   "cell_type": "code",
   "execution_count": 14,
   "metadata": {},
   "outputs": [],
   "source": [
    "vids = soup.findAll('a',attrs={'class':'yt-uix-tile-link'})"
   ]
  },
  {
   "cell_type": "code",
   "execution_count": 17,
   "metadata": {},
   "outputs": [
    {
     "name": "stdout",
     "output_type": "stream",
     "text": [
      "<a aria-describedby=\"description-id-172285\" class=\"yt-uix-tile-link yt-ui-ellipsis yt-ui-ellipsis-2 yt-uix-sessionlink spf-link \" data-sessionlink=\"itct=CFoQ3DAYACITCL_sxavhrd0CFU-o1QodmzYIFij0JFIKY2F0IHZpZGVvcw\" dir=\"ltr\" href=\"/watch?v=pOmu0LtcI6Y\" rel=\"spf-prefetch\" title=\"It's TIME for SUPER LAUGH! - Best FUNNY CAT videos\">It's TIME for SUPER LAUGH! - Best FUNNY CAT videos</a>\n"
     ]
    }
   ],
   "source": [
    "print vids[0]"
   ]
  },
  {
   "cell_type": "code",
   "execution_count": 15,
   "metadata": {},
   "outputs": [],
   "source": [
    "videolist=[]\n",
    "for v in vids:\n",
    "    tmp = 'https://www.youtube.com' + v['href']\n",
    "    videolist.append(tmp)"
   ]
  },
  {
   "cell_type": "code",
   "execution_count": 16,
   "metadata": {},
   "outputs": [
    {
     "name": "stdout",
     "output_type": "stream",
     "text": [
      "[u'https://www.youtube.com/watch?v=pOmu0LtcI6Y', u'https://www.youtube.com/watch?v=XyNlqQId-nk', u'https://www.youtube.com/watch?v=uCLEq9V0-Yk', u'https://www.youtube.com/watch?v=hrxR6sFiq04', u'https://www.youtube.com/watch?v=DXRkXmEK44U', u'https://www.youtube.com/watch?v=FX5jFhUyabM', u'https://www.youtube.com/watch?v=axgFo7QazQo', u'https://www.youtube.com/watch?v=xbs7FT7dXYc', u'https://www.youtube.com/watch?v=E9U9xS4thxU', u'https://www.youtube.com/watch?v=6ryjB9v8OQU', u'https://www.youtube.com/watch?v=H50xQiH_w9I', u'https://www.youtube.com/watch?v=ZxMl1SDJ7po', u'https://www.youtube.com/watch?v=1Wh8RzcQZr4', u'https://www.youtube.com/watch?v=xO8Cz-9qKTI', u'https://www.youtube.com/watch?v=EtH9Yllzjcc', u'https://www.youtube.com/watch?v=dGFSjKuJfrI', u'https://www.youtube.com/watch?v=VJHnPUFffCU', u'https://www.youtube.com/watch?v=kcKM00lmrjQ', u'https://www.youtube.com/watch?v=KDAyZAJchbg', u'https://www.youtube.com/watch?v=n8QZ-gLKFZM']\n"
     ]
    }
   ],
   "source": [
    "print videolist"
   ]
  },
  {
   "cell_type": "code",
   "execution_count": null,
   "metadata": {},
   "outputs": [],
   "source": [
    "count=0\n",
    "for item in videolist:\n",
    " \n",
    "    # increment counter:\n",
    "    count+=1\n",
    " \n",
    "    # initiate the class:\n",
    "    yt = YouTube(item)\n",
    " \n",
    "    # have a look at the different formats available:\n",
    "    #formats = yt.get_videos()\n",
    " \n",
    "    # grab the video:\n",
    "    video = yt.get('mp4', '360p')\n",
    " \n",
    "    # set the output file name:\n",
    "    yt.set_filename('Video_'+str(count))\n",
    " \n",
    "    # download the video:\n",
    "    video.download('./')"
   ]
  }
 ],
 "metadata": {
  "kernelspec": {
   "display_name": "Python 2",
   "language": "python",
   "name": "python2"
  },
  "language_info": {
   "codemirror_mode": {
    "name": "ipython",
    "version": 2
   },
   "file_extension": ".py",
   "mimetype": "text/x-python",
   "name": "python",
   "nbconvert_exporter": "python",
   "pygments_lexer": "ipython2",
   "version": "2.7.15"
  }
 },
 "nbformat": 4,
 "nbformat_minor": 2
}
